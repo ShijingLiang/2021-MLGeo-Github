{
 "cells": [
  {
   "cell_type": "markdown",
   "id": "cf321132",
   "metadata": {},
   "source": [
    "# Chapter 1: Set up Jupyter notebook for R\n",
    "\n",
    "1. Once notebook `chap1_Python.ipynb` has run without error and R is installed on your computer, add R as additional jupyter kernel. To do so, run `conda install -c r r-irkernel` in a terminal.\n",
    "\n",
    "2. Change the Kernel of the present notebook from Python to R (go to the Kernel menu, then Change Kernel, add R). If you do not see R in the list, quit Jupyter notebook and try again. If the problem persists, go back to step 1.\n",
    "\n",
    "Once R and jupyter notebook are installed, run the following cell:"
   ]
  },
  {
   "cell_type": "code",
   "execution_count": 2,
   "id": "444c216c",
   "metadata": {},
   "outputs": [
    {
     "data": {
      "text/plain": [
       "R version 4.0.3 (2020-10-10)\n",
       "Platform: aarch64-apple-darwin20.0.0 (64-bit)\n",
       "Running under: macOS  11.2.3\n",
       "\n",
       "Matrix products: default\n",
       "BLAS:   /Users/arnaudmignan/miniforge3/lib/R/lib/libRblas.dylib\n",
       "LAPACK: /Users/arnaudmignan/miniforge3/lib/R/lib/libRlapack.dylib\n",
       "\n",
       "locale:\n",
       "[1] C/UTF-8/C/C/C/C\n",
       "\n",
       "attached base packages:\n",
       "[1] stats     graphics  grDevices utils     datasets  methods   base     \n",
       "\n",
       "loaded via a namespace (and not attached):\n",
       " [1] fansi_0.4.2       digest_0.6.27     utf8_1.2.1        crayon_1.4.1     \n",
       " [5] IRdisplay_1.0     repr_1.1.3        lifecycle_1.0.0   jsonlite_1.7.2   \n",
       " [9] evaluate_0.14     pillar_1.6.0      rlang_0.4.11      uuid_0.1-4       \n",
       "[13] vctrs_0.3.8       ellipsis_0.3.2    IRkernel_1.1.1    tools_4.0.3      \n",
       "[17] compiler_4.0.3    base64enc_0.1-3   pbdZMQ_0.3-5      htmltools_0.5.1.1"
      ]
     },
     "metadata": {},
     "output_type": "display_data"
    }
   ],
   "source": [
    "sessionInfo()"
   ]
  },
  {
   "cell_type": "markdown",
   "id": "7d6a8280",
   "metadata": {},
   "source": [
    "You should read `R version 4.0.3 (2020-10-10)` or similar on the first line. Other details should be listed.\n",
    "\n",
    "Finally, run the following cell:"
   ]
  },
  {
   "cell_type": "code",
   "execution_count": 3,
   "id": "c4eaaafd",
   "metadata": {},
   "outputs": [
    {
     "data": {
      "text/html": [
       "3.14159265358979"
      ],
      "text/latex": [
       "3.14159265358979"
      ],
      "text/markdown": [
       "3.14159265358979"
      ],
      "text/plain": [
       "[1] 3.141593"
      ]
     },
     "metadata": {},
     "output_type": "display_data"
    }
   ],
   "source": [
    "pi"
   ]
  },
  {
   "cell_type": "markdown",
   "id": "97a08011",
   "metadata": {},
   "source": [
    "You should read `3.14159265358979`. You're all set for R applications in this course!"
   ]
  },
  {
   "cell_type": "code",
   "execution_count": null,
   "id": "f812b65c",
   "metadata": {},
   "outputs": [],
   "source": []
  }
 ],
 "metadata": {
  "kernelspec": {
   "display_name": "R",
   "language": "R",
   "name": "r"
  },
  "language_info": {
   "codemirror_mode": "r",
   "file_extension": ".r",
   "mimetype": "text/x-r-source",
   "name": "R",
   "pygments_lexer": "r",
   "version": "4.0.3"
  }
 },
 "nbformat": 4,
 "nbformat_minor": 5
}
