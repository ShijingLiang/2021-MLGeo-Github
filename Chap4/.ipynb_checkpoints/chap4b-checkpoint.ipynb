{
 "cells": [
  {
   "cell_type": "markdown",
   "id": "4c5a85cb",
   "metadata": {},
   "source": [
    "# Chapter 4b: Gradient descent & back-propagation for 1 neuron\n",
    "\n",
    "We will now build a logistic regression model with a neural network mindset. We already learned about the logistic regression in chapter 2d. The exercises of section 1 will correspond to the tutorial from Andrew Ng's Deep Learning course.\n",
    "\n",
    "We will then apply our model to the _Ionosphere dataset_ taken from Sigillito et al. (1989) which is a simple example of relatively complex pattern in radar data."
   ]
  },
  {
   "cell_type": "code",
   "execution_count": 1,
   "id": "e377fa2a",
   "metadata": {},
   "outputs": [],
   "source": [
    "import pandas as pd\n",
    "import numpy as np\n",
    "import matplotlib.pyplot as plt\n",
    "from sklearn.model_selection import train_test_split"
   ]
  },
  {
   "cell_type": "markdown",
   "id": "d2603d2c",
   "metadata": {},
   "source": [
    "## 1. Logistic regression with ANN mindset\n",
    "\n",
    "### 1.1. Activation function definition\n",
    "\n",
    "We will use as activation function for the one-neuron model the sigmoid, which is equivalent to the logistic regression: $sigmoid( w^T x + b) = \\frac{1}{1 + e^{-(w^T x + b)}}$\n",
    "\n",
    "**EXERCISE 1:** Implement `sigmoid()` (use `np.exp()`)."
   ]
  },
  {
   "cell_type": "code",
   "execution_count": 2,
   "id": "0fc96655",
   "metadata": {},
   "outputs": [],
   "source": [
    "def sigmoid(z):\n",
    "    \"\"\"\n",
    "    Compute the sigmoid of z\n",
    "\n",
    "    Arguments:\n",
    "    z -- A scalar or numpy array of any size.\n",
    "\n",
    "    Return:\n",
    "    s -- sigmoid(z)\n",
    "    \"\"\"\n",
    "\n",
    "    #YOUR CODE HERE (≈ 1 line of code)\n",
    "    \n",
    "    \n",
    "    return s"
   ]
  },
  {
   "cell_type": "markdown",
   "id": "7ed3a9c3",
   "metadata": {},
   "source": [
    "### 1.2. Parameter initialization\n",
    "\n",
    "**EXERCISE 2:** Implement parameter initialization in the cell below. You have to initialize $w$ as a vector of zeros (use `np.zeros()`)."
   ]
  },
  {
   "cell_type": "code",
   "execution_count": 3,
   "id": "b14ab8b6",
   "metadata": {},
   "outputs": [],
   "source": [
    "# GRADED FUNCTION: initialize_with_zeros\n",
    "\n",
    "def initialize_with_zeros(dim):\n",
    "    \"\"\"\n",
    "    This function creates a vector of zeros of shape (dim, 1) for w and initializes b to 0.\n",
    "    \n",
    "    Argument:\n",
    "    dim -- size of the w vector we want (or number of parameters in this case)\n",
    "    \n",
    "    Returns:\n",
    "    w -- initialized vector of shape (dim, 1)\n",
    "    b -- initialized scalar (corresponds to the bias)\n",
    "    \"\"\"\n",
    "    \n",
    "    #YOUR CODE HERE (≈ 2 lines of code)\n",
    "    \n",
    "        \n",
    "    assert(w.shape == (dim, 1))\n",
    "    assert(isinstance(b, float) or isinstance(b, int))\n",
    "    \n",
    "    return w, b"
   ]
  },
  {
   "cell_type": "code",
   "execution_count": 4,
   "id": "c25e2696",
   "metadata": {},
   "outputs": [
    {
     "name": "stdout",
     "output_type": "stream",
     "text": [
      "w = [[0.]\n",
      " [0.]]\n",
      "b = 0\n"
     ]
    }
   ],
   "source": [
    "dim = 2\n",
    "w, b = initialize_with_zeros(dim)\n",
    "print (\"w = \" + str(w))\n",
    "print (\"b = \" + str(b))"
   ]
  },
  {
   "cell_type": "markdown",
   "id": "11c50369",
   "metadata": {},
   "source": [
    "**Expected Output**: \n",
    "\n",
    "<table style=\"width:15%\">\n",
    "    <tr>\n",
    "        <td>  ** w **  </td>\n",
    "        <td> [[ 0.]\n",
    " [ 0.]] </td>\n",
    "    </tr>\n",
    "    <tr>\n",
    "        <td>  ** b **  </td>\n",
    "        <td> 0 </td>\n",
    "    </tr>\n",
    "</table>\n",
    "\n",
    "### 1.3. Forward & backward propagation\n",
    "\n",
    "Now that your parameters are initialized, you can do the \"forward\" and \"backward\" propagation steps for learning the parameters.\n",
    "\n",
    "**EXERCISE 3:** Implement a function `propagate()` that computes the cost function and its gradient.\n",
    "\n",
    "**Hints**:\n",
    "\n",
    "Forward Propagation:\n",
    "- You get $X$\n",
    "- You compute $A = \\sigma(w^T X + b) = (a^{(1)}, a^{(2)}, ..., a^{(m-1)}, a^{(m)})$\n",
    "- You calculate the cost function (negative log-likelihood cost for logistic regression): $J = -\\frac{1}{m}\\sum_{i=1}^{m}y^{(i)}\\log(a^{(i)})+(1-y^{(i)})\\log(1-a^{(i)})$\n",
    "\n",
    "Here are the two formulas you will be using to compute the gradient of the cost function (for back-propagation): \n",
    "\n",
    "$$ \\frac{\\partial J}{\\partial w} = \\frac{1}{m}X(A-Y)^T\\tag{7}$$\n",
    "$$ \\frac{\\partial J}{\\partial b} = \\frac{1}{m} \\sum_{i=1}^m (a^{(i)}-y^{(i)})\\tag{8}$$"
   ]
  },
  {
   "cell_type": "code",
   "execution_count": 5,
   "id": "89ded448",
   "metadata": {},
   "outputs": [],
   "source": [
    "# GRADED FUNCTION: propagate\n",
    "\n",
    "def propagate(w, b, X, Y):\n",
    "    \"\"\"\n",
    "    Implement the cost function and its gradient for the propagation explained above\n",
    "\n",
    "    Arguments:\n",
    "    w -- weights, a numpy array of size (dim, 1)\n",
    "    b -- bias, a scalar\n",
    "    X -- data of size (dim, number of examples)\n",
    "    Y -- true \"label\" vector of size (1, number of examples)\n",
    "\n",
    "    Return:\n",
    "    cost -- negative log-likelihood cost for logistic regression\n",
    "    dw -- gradient of the loss with respect to w, thus same shape as w\n",
    "    db -- gradient of the loss with respect to b, thus same shape as b\n",
    "    \n",
    "    Tips:\n",
    "    - Write your code step by step for the propagation. Use w.T for transpose, np.log(), np.dot()\n",
    "    \"\"\"\n",
    "    \n",
    "    m = X.shape[1]\n",
    "    \n",
    "    # FORWARD PROPAGATION (FROM X TO COST)\n",
    "    #YOUR CODE HERE (≈ 2 lines of code)\n",
    "    \n",
    "        \n",
    "    \n",
    "    \n",
    "    # BACKWARD PROPAGATION (TO FIND GRAD)\n",
    "    #YOUR CODE HERE (≈ 2 lines of code)\n",
    "    \n",
    "    \n",
    "    \n",
    "    assert(dw.shape == w.shape)\n",
    "    assert(db.dtype == float)\n",
    "    cost = np.squeeze(cost)\n",
    "    assert(cost.shape == ())\n",
    "    \n",
    "    grads = {\"dw\": dw,\n",
    "             \"db\": db}\n",
    "    \n",
    "    return grads, cost"
   ]
  },
  {
   "cell_type": "code",
   "execution_count": 6,
   "id": "630b05c4",
   "metadata": {},
   "outputs": [
    {
     "name": "stdout",
     "output_type": "stream",
     "text": [
      "dw = [[0.99845601]\n",
      " [2.39507239]]\n",
      "db = 0.001455578136784208\n",
      "cost = 5.801545319394553\n"
     ]
    }
   ],
   "source": [
    "w, b, X, Y = np.array([[1.],[2.]]), 2., np.array([[1.,2.,-1.],[3.,4.,-3.2]]), np.array([[1,0,1]])\n",
    "grads, cost = propagate(w, b, X, Y)\n",
    "print (\"dw = \" + str(grads[\"dw\"]))\n",
    "print (\"db = \" + str(grads[\"db\"]))\n",
    "print (\"cost = \" + str(cost))"
   ]
  },
  {
   "cell_type": "markdown",
   "id": "316dc1a2",
   "metadata": {},
   "source": [
    "**Expected Output**:\n",
    "\n",
    "<table style=\"width:50%\">\n",
    "    <tr>\n",
    "        <td>  ** dw **  </td>\n",
    "      <td> [[ 0.99845601]\n",
    "     [ 2.39507239]]</td>\n",
    "    </tr>\n",
    "    <tr>\n",
    "        <td>  ** db **  </td>\n",
    "        <td> 0.00145557813678 </td>\n",
    "    </tr>\n",
    "    <tr>\n",
    "        <td>  ** cost **  </td>\n",
    "        <td> 5.801545319394553 </td>\n",
    "    </tr>\n",
    "\n",
    "</table>\n",
    "\n",
    "### 1.4. Optimization (Gradient descent)\n",
    "\n",
    "- You have initialized your parameters.\n",
    "- You are also able to compute a cost function and its gradient.\n",
    "- Now, you want to update the parameters using gradient descent.\n",
    "\n",
    "**EXERCISE 4:** Write down the optimization function. The goal is to learn $w$ and $b$ by minimizing the cost function $J$. For a parameter $\\theta$, the update rule is $ \\theta = \\theta - \\alpha \\text{ } d\\theta$, where $\\alpha$ is the learning rate."
   ]
  },
  {
   "cell_type": "code",
   "execution_count": 7,
   "id": "e68fcae5",
   "metadata": {},
   "outputs": [],
   "source": [
    "def optimize(w, b, X, Y, num_iterations, learning_rate, print_cost = False):\n",
    "    \"\"\"\n",
    "    This function optimizes w and b by running a gradient descent algorithm\n",
    "    \n",
    "    Arguments:\n",
    "    w -- weights, a numpy array of size (dim, 1)\n",
    "    b -- bias, a scalar\n",
    "    X -- data of shape (dim, number of examples)\n",
    "    Y -- true \"label\" vector of shape (1, number of examples)\n",
    "    num_iterations -- number of iterations of the optimization loop\n",
    "    learning_rate -- learning rate of the gradient descent update rule\n",
    "    print_cost -- True to print the loss every 100 steps\n",
    "    \n",
    "    Returns:\n",
    "    params -- dictionary containing the weights w and bias b\n",
    "    grads -- dictionary containing the gradients of the weights and bias with respect to the cost function\n",
    "    costs -- list of all the costs computed during the optimization, this will be used to plot the learning curve.\n",
    "    \n",
    "    Tips:\n",
    "    You basically need to write down two steps and iterate through them:\n",
    "        1) Calculate the cost and the gradient for the current parameters. Use propagate().\n",
    "        2) Update the parameters using gradient descent rule for w and b.\n",
    "    \"\"\"\n",
    "    \n",
    "    costs = []\n",
    "    \n",
    "    for i in range(num_iterations):\n",
    "        \n",
    "        \n",
    "        # Cost and gradient calculation\n",
    "        #YOUR CODE HERE (1 line of code)\n",
    "        \n",
    "\n",
    "        \n",
    "        # Retrieve derivatives from grads\n",
    "        dw = grads[\"dw\"]\n",
    "        db = grads[\"db\"]\n",
    "        \n",
    "        # update rule\n",
    "        #YOUR CODE HERE (≈ 2 lines of code)\n",
    "        \n",
    "        \n",
    "        \n",
    "        # Record the costs\n",
    "        if i % 100 == 0:\n",
    "            costs.append(cost)\n",
    "        \n",
    "        # Print the cost every 100 training iterations\n",
    "        if print_cost and i % 100 == 0:\n",
    "            print (\"Cost after iteration %i: %f\" %(i, cost))\n",
    "    \n",
    "    params = {\"w\": w,\n",
    "              \"b\": b}\n",
    "    \n",
    "    grads = {\"dw\": dw,\n",
    "             \"db\": db}\n",
    "    \n",
    "    return params, grads, costs"
   ]
  },
  {
   "cell_type": "code",
   "execution_count": 8,
   "id": "040cd45a",
   "metadata": {},
   "outputs": [
    {
     "name": "stdout",
     "output_type": "stream",
     "text": [
      "w = [[0.19033591]\n",
      " [0.12259159]]\n",
      "b = 1.9253598300845747\n",
      "dw = [[0.67752042]\n",
      " [1.41625495]]\n",
      "db = 0.21919450454067657\n"
     ]
    }
   ],
   "source": [
    "params, grads, costs = optimize(w, b, X, Y, num_iterations= 100, learning_rate = 0.009, print_cost = False)\n",
    "\n",
    "print (\"w = \" + str(params[\"w\"]))\n",
    "print (\"b = \" + str(params[\"b\"]))\n",
    "print (\"dw = \" + str(grads[\"dw\"]))\n",
    "print (\"db = \" + str(grads[\"db\"]))"
   ]
  },
  {
   "cell_type": "markdown",
   "id": "d93f5e09",
   "metadata": {},
   "source": [
    "**Expected Output**: \n",
    "\n",
    "<table style=\"width:40%\">\n",
    "    <tr>\n",
    "       <td> **w** </td>\n",
    "       <td>[[ 0.19033591] [ 0.12259159]] </td>\n",
    "    </tr>\n",
    "    <tr>\n",
    "       <td> **b** </td>\n",
    "       <td> 1.92535983008 </td>\n",
    "    </tr>\n",
    "    <tr>\n",
    "       <td> **dw** </td>\n",
    "       <td> [[ 0.67752042] [ 1.41625495]] </td>\n",
    "    </tr>\n",
    "    <tr>\n",
    "       <td> **db** </td>\n",
    "       <td> 0.219194504541 </td>\n",
    "    </tr>\n",
    "</table>\n",
    "\n",
    "\n",
    "### 1.5. Class prediction\n",
    "\n",
    "**EXERCISE 5:** The previous function will output the learned $w$ and $b$. We are able to use $w$ and $b$ to predict the labels for a dataset $X$. Implement the `predict()` function. There are two steps to computing predictions:\n",
    "\n",
    "1. Calculate $\\hat{Y} = A = \\sigma(w^T X + b)$\n",
    "\n",
    "2. Convert the entries of $A$ into 0 if activation <= 0.5 or 1 if activation > 0.5; store the predictions in a vector `Y_prediction`. If you wish, you can use an `if`/`else` statement in a `for` loop (though there is also a way to vectorize this). "
   ]
  },
  {
   "cell_type": "code",
   "execution_count": 9,
   "id": "3271d89d",
   "metadata": {},
   "outputs": [],
   "source": [
    "def predict(w, b, X):\n",
    "    '''\n",
    "    Predict whether the label is 0 or 1 using learned logistic regression parameters (w, b)\n",
    "    \n",
    "    Arguments:\n",
    "    w -- weights, a numpy array of size (dim, 1)\n",
    "    b -- bias, a scalar\n",
    "    X -- data of size (dim, number of examples)\n",
    "    \n",
    "    Returns:\n",
    "    Y_prediction -- a numpy array (vector) containing all predictions (0/1) for the examples in X\n",
    "    '''\n",
    "    \n",
    "    m = X.shape[1]\n",
    "    Y_prediction = np.zeros((1,m))\n",
    "    w = w.reshape(X.shape[0], 1)\n",
    "    \n",
    "    # Compute vector \"A\" predicting the logistic regression probabilities\n",
    "    #YOUR CODE HERE (≈ 1 line of code)\n",
    "    \n",
    "    \n",
    "    for i in range(A.shape[1]):\n",
    "        \n",
    "        # Convert probabilities A[0,i] to actual predictions [0,i]\n",
    "        #YOUR CODE HERE (≈ 4 lines of code)\n",
    "        \n",
    "\n",
    "            \n",
    "            \n",
    "    assert(Y_prediction.shape == (1, m))\n",
    "    \n",
    "    return Y_prediction"
   ]
  },
  {
   "cell_type": "code",
   "execution_count": 10,
   "id": "4883944e",
   "metadata": {},
   "outputs": [
    {
     "name": "stdout",
     "output_type": "stream",
     "text": [
      "predictions = [[1. 1. 0.]]\n"
     ]
    }
   ],
   "source": [
    "w = np.array([[0.1124579],[0.23106775]])\n",
    "b = -0.3\n",
    "X = np.array([[1.,-1.1,-3.2],[1.2,2.,0.1]])\n",
    "print (\"predictions = \" + str(predict(w, b, X)))"
   ]
  },
  {
   "cell_type": "markdown",
   "id": "e95dc6b1",
   "metadata": {},
   "source": [
    "**Expected Output**: \n",
    "\n",
    "<table style=\"width:30%\">\n",
    "    <tr>\n",
    "         <td>\n",
    "             **predictions**\n",
    "         </td>\n",
    "          <td>\n",
    "            [[ 1.  1.  0.]]\n",
    "         </td>  \n",
    "   </tr>\n",
    "\n",
    "</table>\n",
    "\n",
    "### 1.6. Merge all functions into a model\n",
    "\n",
    "You will now see how the overall model is structured by putting together all the building blocks (functions implemented in the previous parts) together, in the right order.\n",
    "\n",
    "**EXERCISE 6:** Implement the model function. Use the following notation:\n",
    "    - `Y_prediction_test` for your predictions on the test set\n",
    "    - `Y_prediction_train` for your predictions on the train set\n",
    "    - `w`, `costs`, `grads` for the outputs of `optimize()`\n",
    "\n",
    "We will apply the model to the Ionopshere dataset in the next section!"
   ]
  },
  {
   "cell_type": "code",
   "execution_count": 11,
   "id": "6f04d80e",
   "metadata": {},
   "outputs": [],
   "source": [
    "def model(X_train, Y_train, X_test, Y_test, num_iterations = 2000, learning_rate = 0.5, print_cost = False):\n",
    "    \"\"\"\n",
    "    Builds the logistic regression model by calling the function you've implemented previously\n",
    "    \n",
    "    Arguments:\n",
    "    X_train -- training set represented by a numpy array of shape (dim, m_train)\n",
    "    Y_train -- training labels represented by a numpy array (vector) of shape (1, m_train)\n",
    "    X_test -- test set represented by a numpy array of shape (dim, m_test)\n",
    "    Y_test -- test labels represented by a numpy array (vector) of shape (1, m_test)\n",
    "    num_iterations -- hyperparameter representing the number of iterations to optimize the parameters\n",
    "    learning_rate -- hyperparameter representing the learning rate used in the update rule of optimize()\n",
    "    print_cost -- Set to true to print the cost every 100 iterations\n",
    "    \n",
    "    Returns:\n",
    "    d -- dictionary containing information about the model.\n",
    "    \"\"\"\n",
    "        \n",
    "    # initialize parameters with zeros\n",
    "    #YOUR CODE HERE (≈ 1 line of code)\n",
    "    \n",
    "\n",
    "    # Gradient descent\n",
    "    #YOUR CODE HERE (≈ 1 line of code)\n",
    "    \n",
    "    \n",
    "    # Retrieve parameters w and b from dictionary \"parameters\"\n",
    "    w = parameters[\"w\"]\n",
    "    b = parameters[\"b\"]\n",
    "    \n",
    "    # Predict test/train set examples\n",
    "    #YOUR CODE HERE(≈ 2 lines of code)\n",
    "#    Y_prediction_test = ?\n",
    "#    Y_prediction_train = ?\n",
    "    \n",
    "    \n",
    "\n",
    "    # Print train/test Errors\n",
    "    print(\"train accuracy: {} %\".format(100 - np.mean(np.abs(Y_prediction_train - Y_train)) * 100))\n",
    "    print(\"test accuracy: {} %\".format(100 - np.mean(np.abs(Y_prediction_test - Y_test)) * 100))\n",
    "\n",
    "    \n",
    "    d = {\"costs\": costs,\n",
    "         \"Y_prediction_test\": Y_prediction_test, \n",
    "         \"Y_prediction_train\" : Y_prediction_train, \n",
    "         \"w\" : w, \n",
    "         \"b\" : b,\n",
    "         \"learning_rate\" : learning_rate,\n",
    "         \"num_iterations\": num_iterations}\n",
    "    \n",
    "    return d"
   ]
  },
  {
   "cell_type": "markdown",
   "id": "f5658635",
   "metadata": {},
   "source": [
    "## 2. Application to the Ionosphere dataset\n",
    "\n",
    "We will now consider some radar data collected by a system in Goose Bay, Labrador.  This system consists of a phased array of 16 high-frequency antennas with a total transmitted power on the order of 6.4 kilowatts.  See the paper by Sigillito et al. (1989) for more details.  The targets were free electrons in the ionosphere. \"Good\" (`g`) radar returns are those showing evidence of some type of structure in the ionosphere.  \"Bad\" (`b`) returns are those that do not; their signals pass through the ionosphere.\n",
    "\n",
    "<img src=\"figs_notebook/ref_Sigillito.png\" width = 600>\n",
    "\n",
    "Received signals were processed using an autocorrelation function whose arguments are the time of a pulse and the pulse number.  There were 17 pulse numbers for the Goose Bay system. Instances in this databse are described by 2 attributes per pulse number, corresponding to the complex values returned by the function resulting from the complex electromagnetic signal.\n",
    "\n",
    "* Number of Instances: 351\n",
    "* Number of Attributes: 34 plus the class attribute\n",
    "\n",
    "### 2.1. Dataset"
   ]
  },
  {
   "cell_type": "code",
   "execution_count": 12,
   "id": "f45f21c5",
   "metadata": {},
   "outputs": [],
   "source": [
    "# import data\n",
    "data_df = pd.read_csv('data/ionosphere_data.txt', header = None)\n",
    "\n",
    "data_df.rename(columns={34: 'label'}, inplace = True)\n",
    "data_df['label'].astype('category')\n",
    "data_df['label'].replace({'g': 1, 'b': 0}, inplace = True)\n",
    "\n",
    "y = data_df['label'].values\n",
    "data_df.drop('label', inplace = True, axis = 1)\n",
    "X = data_df.values"
   ]
  },
  {
   "cell_type": "code",
   "execution_count": 13,
   "id": "a0e5bf9e",
   "metadata": {},
   "outputs": [
    {
     "data": {
      "image/png": "[encoded data removed]",
      "text/plain": [
       "<Figure size 1224x288 with 4 Axes>"
      ]
     },
     "metadata": {
      "needs_background": "light"
     },
     "output_type": "display_data"
    }
   ],
   "source": [
    "# plot data\n",
    "Xi = np.arange(1, 17+1, 1)\n",
    "\n",
    "fig, ax = plt.subplots(1, 4, figsize=(17, 4))\n",
    "for axi, i in zip(ax, range(1, 5)):\n",
    "    axi.plot(Xi, X[i, 0:16+1])\n",
    "    axi.plot(Xi, X[i, 17:33+1])\n",
    "    axi.set_title('y = {0}'.format(y[i]), size = 14)"
   ]
  },
  {
   "cell_type": "markdown",
   "id": "5826fef7",
   "metadata": {},
   "source": [
    "### 2.2. Model training & prediction\n",
    "\n",
    "**EXERCISE 7:** Split the data into a training set and a test set. Let us all use the same data split for score comparison purposes by setting `random_state = 7`."
   ]
  },
  {
   "cell_type": "code",
   "execution_count": 14,
   "id": "e68db86b",
   "metadata": {},
   "outputs": [
    {
     "name": "stdout",
     "output_type": "stream",
     "text": [
      "Number of training examples: m_train = 280\n",
      "Number of testing examples: m_test = 71\n"
     ]
    }
   ],
   "source": [
    "#YOUR CODE HERE\n",
    "\n",
    "\n",
    "\n",
    "m_train = np.shape(X_train)[0]\n",
    "m_test = np.shape(X_test)[0]\n",
    "\n",
    "print (\"Number of training examples: m_train = \" + str(m_train))\n",
    "print (\"Number of testing examples: m_test = \" + str(m_test))"
   ]
  },
  {
   "cell_type": "markdown",
   "id": "a4a5312d",
   "metadata": {},
   "source": [
    "**EXERCISE 8:** Run `model()`. Be careful, the data input must first be reformatted using `reshape()`."
   ]
  },
  {
   "cell_type": "code",
   "execution_count": 15,
   "id": "80d7e3d6",
   "metadata": {},
   "outputs": [
    {
     "data": {
      "text/plain": [
       "[(280, 34), (280,)]"
      ]
     },
     "execution_count": 15,
     "metadata": {},
     "output_type": "execute_result"
    }
   ],
   "source": [
    "[X_train.shape, y_train.shape]"
   ]
  },
  {
   "cell_type": "code",
   "execution_count": 16,
   "id": "5b8f8dc2",
   "metadata": {},
   "outputs": [
    {
     "name": "stdout",
     "output_type": "stream",
     "text": [
      "Cost after iteration 0: 0.693147\n",
      "Cost after iteration 100: 0.265337\n",
      "Cost after iteration 200: 0.236426\n",
      "Cost after iteration 300: 0.222155\n",
      "Cost after iteration 400: 0.213023\n",
      "Cost after iteration 500: 0.206429\n",
      "Cost after iteration 600: 0.201309\n",
      "Cost after iteration 700: 0.197133\n",
      "Cost after iteration 800: 0.193610\n",
      "Cost after iteration 900: 0.190561\n",
      "Cost after iteration 1000: 0.187873\n",
      "Cost after iteration 1100: 0.185468\n",
      "Cost after iteration 1200: 0.183293\n",
      "Cost after iteration 1300: 0.181308\n",
      "Cost after iteration 1400: 0.179483\n",
      "Cost after iteration 1500: 0.177796\n",
      "Cost after iteration 1600: 0.176227\n",
      "Cost after iteration 1700: 0.174761\n",
      "Cost after iteration 1800: 0.173388\n",
      "Cost after iteration 1900: 0.172097\n",
      "train accuracy: 94.28571428571429 %\n",
      "test accuracy: 91.54929577464789 %\n"
     ]
    }
   ],
   "source": [
    "#YOUR CODE HERE\n"
   ]
  },
  {
   "cell_type": "markdown",
   "id": "ee4cc8fd",
   "metadata": {},
   "source": [
    "A reasonable model performance would be ~90%. In chapter 4c, we will extend the codes to the ANN model case. We should then see the performance improve.\n",
    "\n",
    "### 2.3. Plotting\n",
    "\n",
    "To conclude, let us plot the learning curve. You can see the cost decreasing. It shows that the parameters are being learned."
   ]
  },
  {
   "cell_type": "code",
   "execution_count": 21,
   "id": "007dfda6",
   "metadata": {},
   "outputs": [
    {
     "data": {
      "image/png": "[encoded data removed]",
      "text/plain": [
       "<Figure size 432x288 with 1 Axes>"
      ]
     },
     "metadata": {
      "needs_background": "light"
     },
     "output_type": "display_data"
    }
   ],
   "source": [
    "# Plot learning curve (with costs)\n",
    "costs = np.squeeze(result['costs'])\n",
    "plt.plot(costs)\n",
    "plt.ylabel('cost')\n",
    "plt.xlabel('iterations (per hundreds)')\n",
    "plt.title(\"Learning rate =\" + str(result[\"learning_rate\"]))\n",
    "plt.show()"
   ]
  },
  {
   "cell_type": "markdown",
   "id": "3fe87a73",
   "metadata": {},
   "source": [
    "**EXERCISE 9:** Define a list of potential learning rates to investigate the best option. What is the best learning rate you can obtain? What are the matching accuracies for the training and test sets?"
   ]
  },
  {
   "cell_type": "markdown",
   "id": "1467afd5",
   "metadata": {},
   "source": [
    "_YOUR ANSWER HERE_"
   ]
  },
  {
   "cell_type": "code",
   "execution_count": 18,
   "id": "4ceb829d",
   "metadata": {},
   "outputs": [
    {
     "name": "stdout",
     "output_type": "stream",
     "text": [
      "learning rate is: 1\n",
      "train accuracy: 94.28571428571429 %\n",
      "test accuracy: 91.54929577464789 %\n",
      "\n",
      "-------------------------------------------------------\n",
      "\n",
      "learning rate is: 0.5\n",
      "train accuracy: 92.85714285714286 %\n",
      "test accuracy: 88.73239436619718 %\n",
      "\n",
      "-------------------------------------------------------\n",
      "\n",
      "learning rate is: 0.01\n",
      "train accuracy: 87.14285714285714 %\n",
      "test accuracy: 83.09859154929578 %\n",
      "\n",
      "-------------------------------------------------------\n",
      "\n"
     ]
    },
    {
     "data": {
      "image/png": "[encoded data removed]",
      "text/plain": [
       "<Figure size 432x288 with 1 Axes>"
      ]
     },
     "metadata": {
      "needs_background": "light"
     },
     "output_type": "display_data"
    }
   ],
   "source": [
    "#YOUR CODE HERE\n",
    "#learning_rates = ?\n",
    "\n",
    "\n",
    "models = {}\n",
    "for i in learning_rates:\n",
    "    print (\"learning rate is: \" + str(i))\n",
    "    models[str(i)] = model(X_train, y_train, X_test, y_test, num_iterations = 1500, learning_rate = i, print_cost = False)\n",
    "    print ('\\n' + \"-------------------------------------------------------\" + '\\n')\n",
    "\n",
    "for i in learning_rates:\n",
    "    plt.plot(np.squeeze(models[str(i)][\"costs\"]), label= str(models[str(i)][\"learning_rate\"]))\n",
    "\n",
    "plt.ylabel('cost')\n",
    "plt.xlabel('iterations (hundreds)')\n",
    "\n",
    "legend = plt.legend(loc='upper center', shadow=True)\n",
    "frame = legend.get_frame()\n",
    "frame.set_facecolor('0.90')\n",
    "plt.show()"
   ]
  },
  {
   "cell_type": "markdown",
   "id": "5bbd8636",
   "metadata": {},
   "source": [
    "## References\n",
    "\n",
    "* Sigillito et al. (1989), Classification of radar returns from the ionosphere using neural networks, Johns Hopkins APL Technical Digest, 10, 262-266"
   ]
  },
  {
   "cell_type": "code",
   "execution_count": null,
   "id": "72b620f4",
   "metadata": {},
   "outputs": [],
   "source": []
  }
 ],
 "metadata": {
  "kernelspec": {
   "display_name": "Python 3 (ipykernel)",
   "language": "python",
   "name": "python3"
  },
  "language_info": {
   "codemirror_mode": {
    "name": "ipython",
    "version": 3
   },
   "file_extension": ".py",
   "mimetype": "text/x-python",
   "name": "python",
   "nbconvert_exporter": "python",
   "pygments_lexer": "ipython3",
   "version": "3.9.7"
  },
  "toc": {
   "base_numbering": 1,
   "nav_menu": {},
   "number_sections": true,
   "sideBar": true,
   "skip_h1_title": false,
   "title_cell": "Table of Contents",
   "title_sidebar": "Contents",
   "toc_cell": false,
   "toc_position": {},
   "toc_section_display": true,
   "toc_window_display": false
  }
 },
 "nbformat": 4,
 "nbformat_minor": 5
}
