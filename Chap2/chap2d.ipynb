{
 "cells": [
  {
   "cell_type": "markdown",
   "id": "56cb6d64",
   "metadata": {},
   "source": [
    "# Chapter 2d: Classification\n",
    "\n",
    "## 1. Logistic regression\n",
    "\n",
    "Logistic regression is a machine learning method for predicting binary classes. The outcome or target variable $y$ is dichotomous in nature. Dichotomous means there are only two possible classes. For example, we will later consider the case: are there aftershocks (yes/no) at a given location $(lon,lat)$ after a large earthquake? Logistic Regression predicts the probability of occurrence of a binary event utilizing a logit (or sigmoid) function:\n",
    "$$\n",
    "P(y) = \\frac{1}{1 + e^{-y}}\n",
    "$$\n",
    "where the input is a linear regression $y = w_0 + w_1 x_1 + w_2 x_2 + \\cdots$ (see the previous lecture on linear regression). To illustrate the difference between linear regression and logistic regression, we will first define an ad hoc data set."
   ]
  },
  {
   "cell_type": "code",
   "execution_count": 1,
   "id": "6d06e003",
   "metadata": {},
   "outputs": [],
   "source": [
    "import numpy as np\n",
    "import pandas as pd\n",
    "import matplotlib.pyplot as plt\n",
    "from sklearn.linear_model import LinearRegression, LogisticRegression\n",
    "from sklearn.metrics import confusion_matrix, plot_confusion_matrix, classification_report, roc_curve, auc\n",
    "from sklearn.utils import shuffle\n",
    "\n",
    "import warnings\n",
    "warnings.filterwarnings('ignore')"
   ]
  },
  {
   "cell_type": "code",
   "execution_count": 2,
   "id": "d353a231",
   "metadata": {},
   "outputs": [
    {
     "data": {
      "image/png": "[encoded data removed]",
      "text/plain": [
       "<Figure size 1008x288 with 2 Axes>"
      ]
     },
     "metadata": {
      "needs_background": "light"
     },
     "output_type": "display_data"
    }
   ],
   "source": [
    "rng = np.random.RandomState()\n",
    "x = np.concatenate([rng.uniform(0, 1.5, 50), rng.uniform(1, 3, 30)])\n",
    "y = np.concatenate([np.repeat(0, 50), np.repeat(1, 30)])\n",
    "\n",
    "linreg_model = LinearRegression(fit_intercept = True)\n",
    "linreg_model.fit(x[:, np.newaxis], y)\n",
    "\n",
    "logreg_model = LogisticRegression()\n",
    "logreg_model.fit(x[:, np.newaxis], y)\n",
    "\n",
    "xfit = np.linspace(0, 3, 100)\n",
    "\n",
    "fig, axs = plt.subplots(1,2)\n",
    "fig.set_figheight(4)\n",
    "fig.set_figwidth(14)\n",
    "\n",
    "axs[0].scatter(x, y)\n",
    "axs[0].plot(xfit, linreg_model.predict(xfit[:, np.newaxis]), 'r')\n",
    "axs[0].set_xlabel('x')\n",
    "axs[0].set_ylabel('y')\n",
    "axs[0].set_title('Linear regression (wrong)', size=14)\n",
    "\n",
    "axs[1].scatter(x, y)\n",
    "axs[1].plot(xfit, logreg_model.predict_proba(xfit[:, np.newaxis])[:, 1], 'r')\n",
    "axs[1].set_xlabel('x')\n",
    "axs[1].set_ylabel('y')\n",
    "axs[1].set_title('Logistic regression (correct)', size=14);"
   ]
  },
  {
   "cell_type": "markdown",
   "id": "5e306bf4",
   "metadata": {},
   "source": [
    "We easily notice why a linear regression should not be used on a binary classification problem. First, recall from the previous section that linear regression assumes gaussian noise, which is not the case, but Bernoulli here. Second a linear regression with provide estimates outside the two only values that $y$ can take. In contrast, the logistic regression provides a probabilistic result $0 \\le P(y) \\le 1$.\n",
    "\n",
    "## 2. An application to aftershock location prediction\n",
    "\n",
    "We will now take as geoscience example the recent debate around classification of aftershocks in space. An article published in Nature in 2018 proposed a complex deep neural network as classifier (de Vries et al., 2018). One year later, Mignan & Broccardo (2019) proved, in the same journal, that a logistic regression can provide a similar performance score, if not a better one. Since this has been a highly mediatised study, let us reproduce here the logistic regression model. We will reproduce the deep learning model in a future chapter.\n",
    "\n",
    "<img src=\"figs_notebook/fig_Mignan&Broccardo_Nature.png\" width = 500>"
   ]
  },
  {
   "cell_type": "markdown",
   "id": "622a955c",
   "metadata": {},
   "source": [
    "### 2.1. Data preparation\n",
    "\n",
    "#### 2.1.1. Data loading\n",
    "\n",
    "First, we will import the input data defined by de Vries et al. (2018), which consists of the characteristics of 199 mainshocks and the matching $(x,y,z)$ grid points providing 12 stress features and the label $y$ ($y = 1$ if there is at least one aftershock in the grid cell, $y=0$ otherwise). Note that the stress metrics were computed by the authors for each matching mainshock.\n",
    "\n",
    "The first question will be: Can we predict the location of aftershocks based on stress data? In a second stage, we will investigate if we could use simpler features.\n",
    "\n",
    "First, download the labelled data from de Vries et al. (2018) available at: https://owncloud.sustech.edu.cn/s/faqetGF3d9KtoKk (WARNING: 1.7 GB once unzipped) - Keep the folder name `AllCSV` and place it in the folder `data/aftershock/` located in the notebook directory. Add also `Training_FileNames.h5` and `Testing_FileNames.h5` provided on BlackBoard."
   ]
  },
  {
   "cell_type": "code",
   "execution_count": 4,
   "id": "1051003c",
   "metadata": {},
   "outputs": [],
   "source": [
    "import fnmatch\n",
    "import os\n",
    "import h5py"
   ]
  },
  {
   "cell_type": "code",
   "execution_count": 5,
   "id": "2c703bc6",
   "metadata": {},
   "outputs": [],
   "source": [
    "# import xyz grid features X and label y\n",
    "notebook_path = os.path.abspath(\"chap2d.ipynb\")\n",
    "directory = os.path.join(os.path.dirname(notebook_path), \"data/aftershocks/AllCSV/\")\n",
    "file_list = os.listdir(directory)\n",
    "n_files = len(file_list)\n",
    "file_list.sort()    # will sort files per mainshock date"
   ]
  },
  {
   "cell_type": "code",
   "execution_count": 6,
   "id": "a090342b",
   "metadata": {},
   "outputs": [
    {
     "data": {
      "text/plain": [
       "6121210"
      ]
     },
     "execution_count": 6,
     "metadata": {},
     "output_type": "execute_result"
    }
   ],
   "source": [
    "indata = []\n",
    "for i in range(len(file_list)):\n",
    "    mainshock_name = 's' + file_list[i][0:file_list[i].find('_')]\n",
    "    df_tmp = pd.read_csv(directory + file_list[i])\n",
    "    df_tmp['ID'] = np.repeat(mainshock_name, len(df_tmp))  #add ID = SRCMOD EventTAG\n",
    "    indata.append(df_tmp)\n",
    "\n",
    "data_xyz = pd.concat(indata)\n",
    "len(data_xyz)"
   ]
  },
  {
   "cell_type": "code",
   "execution_count": 7,
   "id": "19a30a94",
   "metadata": {},
   "outputs": [
    {
     "data": {
      "text/html": [
       "<div>\n",
       "<style scoped>\n",
       "    .dataframe tbody tr th:only-of-type {\n",
       "        vertical-align: middle;\n",
       "    }\n",
       "\n",
       "    .dataframe tbody tr th {\n",
       "        vertical-align: top;\n",
       "    }\n",
       "\n",
       "    .dataframe thead th {\n",
       "        text-align: right;\n",
       "    }\n",
       "</style>\n",
       "<table border=\"1\" class=\"dataframe\">\n",
       "  <thead>\n",
       "    <tr style=\"text-align: right;\">\n",
       "      <th></th>\n",
       "      <th>x</th>\n",
       "      <th>y</th>\n",
       "      <th>z</th>\n",
       "      <th>stresses_full_xx</th>\n",
       "      <th>stresses_full_xy</th>\n",
       "      <th>stresses_full_yy</th>\n",
       "      <th>stresses_full_xz</th>\n",
       "      <th>stresses_full_yz</th>\n",
       "      <th>stresses_full_zz</th>\n",
       "      <th>stresses_full_max_shear</th>\n",
       "      <th>stresses_full_cfs_1</th>\n",
       "      <th>stresses_full_cfs_2</th>\n",
       "      <th>stresses_full_cfs_3</th>\n",
       "      <th>stresses_full_cfs_4</th>\n",
       "      <th>von_mises</th>\n",
       "      <th>aftershocksyn</th>\n",
       "      <th>ID</th>\n",
       "    </tr>\n",
       "  </thead>\n",
       "  <tbody>\n",
       "    <tr>\n",
       "      <th>0</th>\n",
       "      <td>228050.836661</td>\n",
       "      <td>3.438285e+06</td>\n",
       "      <td>-2500.0</td>\n",
       "      <td>-2643.095958</td>\n",
       "      <td>-303.314853</td>\n",
       "      <td>-8306.190130</td>\n",
       "      <td>-62.011213</td>\n",
       "      <td>-591.513951</td>\n",
       "      <td>-23.523893</td>\n",
       "      <td>4191.904227</td>\n",
       "      <td>1278.439670</td>\n",
       "      <td>-1609.139444</td>\n",
       "      <td>1609.139444</td>\n",
       "      <td>-1278.439670</td>\n",
       "      <td>7423.266049</td>\n",
       "      <td>0.0</td>\n",
       "      <td>s1968HYUGAx01YAGI</td>\n",
       "    </tr>\n",
       "    <tr>\n",
       "      <th>1</th>\n",
       "      <td>233050.836661</td>\n",
       "      <td>3.438285e+06</td>\n",
       "      <td>-2500.0</td>\n",
       "      <td>-2506.143012</td>\n",
       "      <td>33.487142</td>\n",
       "      <td>-8293.837540</td>\n",
       "      <td>-40.272330</td>\n",
       "      <td>-619.872533</td>\n",
       "      <td>-25.140746</td>\n",
       "      <td>4180.998624</td>\n",
       "      <td>1353.632905</td>\n",
       "      <td>-1706.330567</td>\n",
       "      <td>1706.330567</td>\n",
       "      <td>-1353.632905</td>\n",
       "      <td>7427.854270</td>\n",
       "      <td>0.0</td>\n",
       "      <td>s1968HYUGAx01YAGI</td>\n",
       "    </tr>\n",
       "    <tr>\n",
       "      <th>2</th>\n",
       "      <td>238050.836661</td>\n",
       "      <td>3.438285e+06</td>\n",
       "      <td>-2500.0</td>\n",
       "      <td>-2390.411001</td>\n",
       "      <td>381.016088</td>\n",
       "      <td>-8149.157556</td>\n",
       "      <td>-16.212656</td>\n",
       "      <td>-642.672511</td>\n",
       "      <td>-26.597214</td>\n",
       "      <td>4124.540863</td>\n",
       "      <td>1417.713571</td>\n",
       "      <td>-1789.742291</td>\n",
       "      <td>1789.742291</td>\n",
       "      <td>-1417.713571</td>\n",
       "      <td>7351.107005</td>\n",
       "      <td>0.0</td>\n",
       "      <td>s1968HYUGAx01YAGI</td>\n",
       "    </tr>\n",
       "    <tr>\n",
       "      <th>3</th>\n",
       "      <td>243050.836661</td>\n",
       "      <td>3.438285e+06</td>\n",
       "      <td>-2500.0</td>\n",
       "      <td>-2299.362270</td>\n",
       "      <td>723.248609</td>\n",
       "      <td>-7868.650242</td>\n",
       "      <td>9.526966</td>\n",
       "      <td>-659.035520</td>\n",
       "      <td>-27.846052</td>\n",
       "      <td>4021.524131</td>\n",
       "      <td>1466.875844</td>\n",
       "      <td>-1854.619572</td>\n",
       "      <td>1854.619572</td>\n",
       "      <td>-1466.875844</td>\n",
       "      <td>7190.271468</td>\n",
       "      <td>0.0</td>\n",
       "      <td>s1968HYUGAx01YAGI</td>\n",
       "    </tr>\n",
       "    <tr>\n",
       "      <th>4</th>\n",
       "      <td>248050.836661</td>\n",
       "      <td>3.438285e+06</td>\n",
       "      <td>-2500.0</td>\n",
       "      <td>-2233.960345</td>\n",
       "      <td>1043.357897</td>\n",
       "      <td>-7454.950559</td>\n",
       "      <td>36.174998</td>\n",
       "      <td>-668.289344</td>\n",
       "      <td>-28.844615</td>\n",
       "      <td>3872.648486</td>\n",
       "      <td>1497.602675</td>\n",
       "      <td>-1896.565287</td>\n",
       "      <td>1896.565287</td>\n",
       "      <td>-1497.602675</td>\n",
       "      <td>6945.768984</td>\n",
       "      <td>0.0</td>\n",
       "      <td>s1968HYUGAx01YAGI</td>\n",
       "    </tr>\n",
       "    <tr>\n",
       "      <th>...</th>\n",
       "      <td>...</td>\n",
       "      <td>...</td>\n",
       "      <td>...</td>\n",
       "      <td>...</td>\n",
       "      <td>...</td>\n",
       "      <td>...</td>\n",
       "      <td>...</td>\n",
       "      <td>...</td>\n",
       "      <td>...</td>\n",
       "      <td>...</td>\n",
       "      <td>...</td>\n",
       "      <td>...</td>\n",
       "      <td>...</td>\n",
       "      <td>...</td>\n",
       "      <td>...</td>\n",
       "      <td>...</td>\n",
       "      <td>...</td>\n",
       "    </tr>\n",
       "    <tr>\n",
       "      <th>19285</th>\n",
       "      <td>471380.946671</td>\n",
       "      <td>3.728423e+05</td>\n",
       "      <td>-47500.0</td>\n",
       "      <td>710.070096</td>\n",
       "      <td>-5251.054285</td>\n",
       "      <td>20733.987163</td>\n",
       "      <td>3930.203536</td>\n",
       "      <td>-13850.221996</td>\n",
       "      <td>6977.127223</td>\n",
       "      <td>16310.109019</td>\n",
       "      <td>417.800762</td>\n",
       "      <td>18473.143597</td>\n",
       "      <td>-18473.143597</td>\n",
       "      <td>-417.800762</td>\n",
       "      <td>31926.296190</td>\n",
       "      <td>0.0</td>\n",
       "      <td>s2012SUMATR03HAYE</td>\n",
       "    </tr>\n",
       "    <tr>\n",
       "      <th>19286</th>\n",
       "      <td>476380.946671</td>\n",
       "      <td>3.728423e+05</td>\n",
       "      <td>-47500.0</td>\n",
       "      <td>-164.919780</td>\n",
       "      <td>-3727.184738</td>\n",
       "      <td>21334.860100</td>\n",
       "      <td>3037.909222</td>\n",
       "      <td>-14138.938807</td>\n",
       "      <td>7085.178929</td>\n",
       "      <td>16380.178960</td>\n",
       "      <td>2239.826880</td>\n",
       "      <td>17679.774101</td>\n",
       "      <td>-17679.774101</td>\n",
       "      <td>-2239.826880</td>\n",
       "      <td>32062.752645</td>\n",
       "      <td>0.0</td>\n",
       "      <td>s2012SUMATR03HAYE</td>\n",
       "    </tr>\n",
       "    <tr>\n",
       "      <th>19287</th>\n",
       "      <td>481380.946671</td>\n",
       "      <td>3.728423e+05</td>\n",
       "      <td>-47500.0</td>\n",
       "      <td>-890.077876</td>\n",
       "      <td>-2014.391626</td>\n",
       "      <td>21532.007086</td>\n",
       "      <td>2048.836758</td>\n",
       "      <td>-14190.819417</td>\n",
       "      <td>7084.631269</td>\n",
       "      <td>16293.859627</td>\n",
       "      <td>4189.875411</td>\n",
       "      <td>16435.664962</td>\n",
       "      <td>-16435.664962</td>\n",
       "      <td>-4189.875411</td>\n",
       "      <td>31881.669627</td>\n",
       "      <td>0.0</td>\n",
       "      <td>s2012SUMATR03HAYE</td>\n",
       "    </tr>\n",
       "    <tr>\n",
       "      <th>19288</th>\n",
       "      <td>486380.946671</td>\n",
       "      <td>3.728423e+05</td>\n",
       "      <td>-47500.0</td>\n",
       "      <td>-1420.487894</td>\n",
       "      <td>-172.251740</td>\n",
       "      <td>21270.116357</td>\n",
       "      <td>995.878922</td>\n",
       "      <td>-13978.127096</td>\n",
       "      <td>6964.239908</td>\n",
       "      <td>16053.195403</td>\n",
       "      <td>6190.300322</td>\n",
       "      <td>14749.045895</td>\n",
       "      <td>-14749.045895</td>\n",
       "      <td>-6190.300322</td>\n",
       "      <td>31371.023080</td>\n",
       "      <td>0.0</td>\n",
       "      <td>s2012SUMATR03HAYE</td>\n",
       "    </tr>\n",
       "    <tr>\n",
       "      <th>19289</th>\n",
       "      <td>491380.946671</td>\n",
       "      <td>3.728423e+05</td>\n",
       "      <td>-47500.0</td>\n",
       "      <td>-1722.031487</td>\n",
       "      <td>1724.807596</td>\n",
       "      <td>20512.495486</td>\n",
       "      <td>-80.883303</td>\n",
       "      <td>-13483.502892</td>\n",
       "      <td>6717.367199</td>\n",
       "      <td>15669.833137</td>\n",
       "      <td>8149.539714</td>\n",
       "      <td>12654.643049</td>\n",
       "      <td>-12654.643049</td>\n",
       "      <td>-8149.539714</td>\n",
       "      <td>30533.762672</td>\n",
       "      <td>0.0</td>\n",
       "      <td>s2012SUMATR03HAYE</td>\n",
       "    </tr>\n",
       "  </tbody>\n",
       "</table>\n",
       "<p>6121210 rows × 17 columns</p>\n",
       "</div>"
      ],
      "text/plain": [
       "                   x             y        z  stresses_full_xx  \\\n",
       "0      228050.836661  3.438285e+06  -2500.0      -2643.095958   \n",
       "1      233050.836661  3.438285e+06  -2500.0      -2506.143012   \n",
       "2      238050.836661  3.438285e+06  -2500.0      -2390.411001   \n",
       "3      243050.836661  3.438285e+06  -2500.0      -2299.362270   \n",
       "4      248050.836661  3.438285e+06  -2500.0      -2233.960345   \n",
       "...              ...           ...      ...               ...   \n",
       "19285  471380.946671  3.728423e+05 -47500.0        710.070096   \n",
       "19286  476380.946671  3.728423e+05 -47500.0       -164.919780   \n",
       "19287  481380.946671  3.728423e+05 -47500.0       -890.077876   \n",
       "19288  486380.946671  3.728423e+05 -47500.0      -1420.487894   \n",
       "19289  491380.946671  3.728423e+05 -47500.0      -1722.031487   \n",
       "\n",
       "       stresses_full_xy  stresses_full_yy  stresses_full_xz  stresses_full_yz  \\\n",
       "0           -303.314853      -8306.190130        -62.011213       -591.513951   \n",
       "1             33.487142      -8293.837540        -40.272330       -619.872533   \n",
       "2            381.016088      -8149.157556        -16.212656       -642.672511   \n",
       "3            723.248609      -7868.650242          9.526966       -659.035520   \n",
       "4           1043.357897      -7454.950559         36.174998       -668.289344   \n",
       "...                 ...               ...               ...               ...   \n",
       "19285      -5251.054285      20733.987163       3930.203536     -13850.221996   \n",
       "19286      -3727.184738      21334.860100       3037.909222     -14138.938807   \n",
       "19287      -2014.391626      21532.007086       2048.836758     -14190.819417   \n",
       "19288       -172.251740      21270.116357        995.878922     -13978.127096   \n",
       "19289       1724.807596      20512.495486        -80.883303     -13483.502892   \n",
       "\n",
       "       stresses_full_zz  stresses_full_max_shear  stresses_full_cfs_1  \\\n",
       "0            -23.523893              4191.904227          1278.439670   \n",
       "1            -25.140746              4180.998624          1353.632905   \n",
       "2            -26.597214              4124.540863          1417.713571   \n",
       "3            -27.846052              4021.524131          1466.875844   \n",
       "4            -28.844615              3872.648486          1497.602675   \n",
       "...                 ...                      ...                  ...   \n",
       "19285       6977.127223             16310.109019           417.800762   \n",
       "19286       7085.178929             16380.178960          2239.826880   \n",
       "19287       7084.631269             16293.859627          4189.875411   \n",
       "19288       6964.239908             16053.195403          6190.300322   \n",
       "19289       6717.367199             15669.833137          8149.539714   \n",
       "\n",
       "       stresses_full_cfs_2  stresses_full_cfs_3  stresses_full_cfs_4  \\\n",
       "0             -1609.139444          1609.139444         -1278.439670   \n",
       "1             -1706.330567          1706.330567         -1353.632905   \n",
       "2             -1789.742291          1789.742291         -1417.713571   \n",
       "3             -1854.619572          1854.619572         -1466.875844   \n",
       "4             -1896.565287          1896.565287         -1497.602675   \n",
       "...                    ...                  ...                  ...   \n",
       "19285         18473.143597        -18473.143597          -417.800762   \n",
       "19286         17679.774101        -17679.774101         -2239.826880   \n",
       "19287         16435.664962        -16435.664962         -4189.875411   \n",
       "19288         14749.045895        -14749.045895         -6190.300322   \n",
       "19289         12654.643049        -12654.643049         -8149.539714   \n",
       "\n",
       "          von_mises  aftershocksyn                 ID  \n",
       "0       7423.266049            0.0  s1968HYUGAx01YAGI  \n",
       "1       7427.854270            0.0  s1968HYUGAx01YAGI  \n",
       "2       7351.107005            0.0  s1968HYUGAx01YAGI  \n",
       "3       7190.271468            0.0  s1968HYUGAx01YAGI  \n",
       "4       6945.768984            0.0  s1968HYUGAx01YAGI  \n",
       "...             ...            ...                ...  \n",
       "19285  31926.296190            0.0  s2012SUMATR03HAYE  \n",
       "19286  32062.752645            0.0  s2012SUMATR03HAYE  \n",
       "19287  31881.669627            0.0  s2012SUMATR03HAYE  \n",
       "19288  31371.023080            0.0  s2012SUMATR03HAYE  \n",
       "19289  30533.762672            0.0  s2012SUMATR03HAYE  \n",
       "\n",
       "[6121210 rows x 17 columns]"
      ]
     },
     "execution_count": 7,
     "metadata": {},
     "output_type": "execute_result"
    }
   ],
   "source": [
    "data_xyz"
   ]
  },
  {
   "cell_type": "code",
   "execution_count": 8,
   "id": "a32752e9",
   "metadata": {},
   "outputs": [
    {
     "data": {
      "text/plain": [
       "Index(['x', 'y', 'z', 'stresses_full_xx', 'stresses_full_xy',\n",
       "       'stresses_full_yy', 'stresses_full_xz', 'stresses_full_yz',\n",
       "       'stresses_full_zz', 'stresses_full_max_shear', 'stresses_full_cfs_1',\n",
       "       'stresses_full_cfs_2', 'stresses_full_cfs_3', 'stresses_full_cfs_4',\n",
       "       'von_mises', 'aftershocksyn', 'ID'],\n",
       "      dtype='object')"
      ]
     },
     "execution_count": 8,
     "metadata": {},
     "output_type": "execute_result"
    }
   ],
   "source": [
    "# grid coordinates, features X, label y, mainshock ID\n",
    "data_xyz.columns"
   ]
  },
  {
   "cell_type": "markdown",
   "id": "3274c399",
   "metadata": {},
   "source": [
    "#### 2.1.2. Data filtering\n",
    "\n",
    "We now need to filter the data."
   ]
  },
  {
   "cell_type": "code",
   "execution_count": 9,
   "id": "5093f9f6",
   "metadata": {},
   "outputs": [
    {
     "data": {
      "text/plain": [
       "[6019888, 101322, 0.9834473903035511]"
      ]
     },
     "execution_count": 9,
     "metadata": {},
     "output_type": "execute_result"
    }
   ],
   "source": [
    "data_xyz_1s = data_xyz.loc[data_xyz['aftershocksyn'] == 1]\n",
    "data_xyz_0s = data_xyz.loc[data_xyz['aftershocksyn'] == 0]\n",
    "numberOf0s = len(data_xyz_0s)\n",
    "numberOf1s = len(data_xyz_1s)\n",
    "[numberOf0s, numberOf1s, numberOf0s/(numberOf0s+numberOf1s)]"
   ]
  },
  {
   "cell_type": "markdown",
   "id": "90e7c8af",
   "metadata": {},
   "source": [
    "**EXERCISE 1:** What can you say of the data? What do the 3 values given above mean?"
   ]
  },
  {
   "cell_type": "markdown",
   "id": "59dc7c52",
   "metadata": {},
   "source": [
    "_YOUR ANSWER HERE_"
   ]
  },
  {
   "cell_type": "markdown",
   "id": "c154b6c2",
   "metadata": {},
   "source": [
    "**EXERCISE 2:** Prove that the code below solves the problem."
   ]
  },
  {
   "cell_type": "code",
   "execution_count": 10,
   "id": "42150ab3",
   "metadata": {},
   "outputs": [
    {
     "data": {
      "text/plain": [
       "[101322, 101322]"
      ]
     },
     "execution_count": 10,
     "metadata": {},
     "output_type": "execute_result"
    }
   ],
   "source": [
    "random_subsample0 = np.random.choice(numberOf0s, numberOf1s)\n",
    "#random.choice(a, size) samples size elements from np.arange(a)\n",
    "data_xyz_0s = data_xyz_0s.iloc[random_subsample0]\n",
    "data_xyz_balanced = data_xyz_1s.append(data_xyz_0s)\n",
    "\n",
    "# YOUR CODE HERE (to print the result)\n",
    "#[?, ?]"
   ]
  },
  {
   "cell_type": "markdown",
   "id": "0a40abf8",
   "metadata": {},
   "source": [
    "We need to further split the new data into traning and test sets. For this, we will use the same mainshock ID split as done in de Vries et al. (2018) and Mignan & Broccardo (2019) (as given in the files `Training_FileNames.h5` and `Testing_FileNames.h5`)."
   ]
  },
  {
   "cell_type": "code",
   "execution_count": 13,
   "id": "1c4314db",
   "metadata": {},
   "outputs": [
    {
     "data": {
      "text/plain": [
       "[142, 57]"
      ]
     },
     "execution_count": 13,
     "metadata": {},
     "output_type": "execute_result"
    }
   ],
   "source": [
    "# data split\n",
    "h5file1 = h5py.File(os.path.join(os.path.dirname(notebook_path), \"data/aftershocks/Training_FileNames.h5\"))\n",
    "training_filenames = np.array(h5file1.get('file_names_training'))\n",
    "h5file2 = h5py.File(os.path.join(os.path.dirname(notebook_path), \"data/aftershocks/Testing_FileNames.h5\"))\n",
    "testing_filenames = np.array(h5file2.get('file_names_testing'))\n",
    "[len(training_filenames), len(testing_filenames)]"
   ]
  },
  {
   "cell_type": "code",
   "execution_count": 14,
   "id": "70bedf07",
   "metadata": {},
   "outputs": [
    {
     "data": {
      "text/plain": [
       "[164146, 38498]"
      ]
     },
     "execution_count": 14,
     "metadata": {},
     "output_type": "execute_result"
    }
   ],
   "source": [
    "training_IDs_temp = map(lambda x: str(x, 'utf-8'), training_filenames)         #from byte to string\n",
    "training_IDs = list(map(lambda x: 's' + x[0:x.find('_')], training_IDs_temp))  #extract event tag only\n",
    "testing_IDs_temp = map(lambda x: str(x, 'utf-8'), testing_filenames)           #from byte to string\n",
    "testing_IDs = list(map(lambda x: 's' + x[0:x.find('_')], testing_IDs_temp))    #extract event tag only\n",
    "\n",
    "TrainingSet = data_xyz_balanced.loc[data_xyz_balanced['ID'].isin(training_IDs)]\n",
    "TestingSet = data_xyz_balanced.loc[data_xyz_balanced['ID'].isin(testing_IDs)]\n",
    "\n",
    "TrainingSet= shuffle(TrainingSet)\n",
    "\n",
    "[len(TrainingSet), len(TestingSet)]"
   ]
  },
  {
   "cell_type": "markdown",
   "id": "2e82c527",
   "metadata": {},
   "source": [
    "### 2.2. Logistic regression model\n",
    "\n",
    "Let us now make a logistic regression using only one metric, the von Mises criterion which was found by de Vries et al. (2018) to be a good predictor. Note that we use the log as normalisation (range of original values very high)."
   ]
  },
  {
   "cell_type": "code",
   "execution_count": 19,
   "id": "5b693299",
   "metadata": {},
   "outputs": [],
   "source": [
    "x_train = np.log(TrainingSet['von_mises']).values.reshape(-1,1)\n",
    "y_train = TrainingSet['aftershocksyn'].values.reshape(-1,1)"
   ]
  },
  {
   "cell_type": "markdown",
   "id": "8a67f5f0",
   "metadata": {},
   "source": [
    "**EXERCISE 3:** What did we just do with `reshape(-1,1)`? Explain using `.shape`. Reshaping an array will be common practice in the next chapters, especially when dealing with neural networks. In this simple case, we could have used `TrainingSet['von_mises'].values[:,np.newaxis]` instead."
   ]
  },
  {
   "cell_type": "code",
   "execution_count": 18,
   "id": "f0b3edef",
   "metadata": {},
   "outputs": [
    {
     "name": "stdout",
     "output_type": "stream",
     "text": [
      "(164146,)\n",
      "(164146, 1)\n"
     ]
    }
   ],
   "source": [
    "# YOUR CODE HERE\n",
    "#print(...)\n",
    "#print(...)"
   ]
  },
  {
   "cell_type": "markdown",
   "id": "ae1df02e",
   "metadata": {},
   "source": [
    "**EXERCISE 4:** Create, fit and plot the logistic regression model for the von Mises criterion (as we learned in section 1). To determine the x-axis range, you may check `[np.min(x_train), np.max(x_train)]`."
   ]
  },
  {
   "cell_type": "code",
   "execution_count": 20,
   "id": "ff40afda",
   "metadata": {},
   "outputs": [
    {
     "data": {
      "image/png": "[encoded data removed]",
      "text/plain": [
       "<Figure size 432x288 with 1 Axes>"
      ]
     },
     "metadata": {
      "needs_background": "light"
     },
     "output_type": "display_data"
    }
   ],
   "source": [
    "# YOUR CODE HERE\n",
    "#logreg_model = ?\n",
    "# ..."
   ]
  },
  {
   "cell_type": "markdown",
   "id": "7910c929",
   "metadata": {},
   "source": [
    "We then predict $P(y)$ and the matching $\\hat{y}$ with the functions `predict_proba` and `predict`.\n",
    "\n",
    "**EXERCISE 5:** Based on the model parameter estimates `coef_` and `intercept_`, write down the full equation of the logistic regression model by using Latex notation. The von Mises parameter is written as $\\sqrt{3 \\Delta J_2}$ in DeVries et al. (2018) (in which $\\Delta J_2$ is the second invariant of the deviatoric stress-change tensor)."
   ]
  },
  {
   "cell_type": "code",
   "execution_count": 22,
   "id": "c1e886a8",
   "metadata": {},
   "outputs": [
    {
     "name": "stdout",
     "output_type": "stream",
     "text": [
      "[[0.46030139]] [-5.72589569]\n"
     ]
    }
   ],
   "source": [
    "x_test = np.log(TestingSet['von_mises']).values.reshape(-1,1)\n",
    "y_test_true = TestingSet['aftershocksyn'].values.reshape(-1,1)\n",
    "\n",
    "y_pred = logreg_model.predict(x_test)\n",
    "y_pred_pr = logreg_model.predict_proba(x_test)[:, 1]\n",
    "\n",
    "print(logreg_model.coef_, logreg_model.intercept_)"
   ]
  },
  {
   "cell_type": "markdown",
   "id": "4d094b48",
   "metadata": {},
   "source": [
    "_YOUR ANSWER HERE_\n",
    "$$\n",
    "...\n",
    "$$"
   ]
  },
  {
   "cell_type": "markdown",
   "id": "efb7fe62",
   "metadata": {},
   "source": [
    "### 2.3. Confusion matrix & performance metrics for binary classification\n",
    "\n",
    "The performance of classifiers can be visualised in a __confusion matrix__, a table layout that allows visualising the performance of the predictive model. Each row of the matrix represents the instances in a predicted class, while each column represents the instances in an actual class (or vice versa). The name stems from the fact that it makes it easy to see whether the model is confusing two classes.\n",
    "\n",
    "**EXERCISE 6:** Generate the confusion matrix of the previous model by using `plot_confusion_matrix(estimator, X, y_true, cmap='viridis')`. Try different `cmap` options, e.g. `plt.cm.Blues` or others: `['Greys', 'Purples', 'Blues', 'Greens', 'Oranges', 'Reds', 'YlOrBr', 'YlOrRd', 'OrRd', 'PuRd', 'RdPu', 'BuPu', 'GnBu', 'PuBu', 'YlGnBu', 'PuBuGn', 'BuGn', 'YlGn']`."
   ]
  },
  {
   "cell_type": "code",
   "execution_count": 38,
   "id": "e3a1ff35",
   "metadata": {},
   "outputs": [
    {
     "data": {
      "image/png": "[encoded data removed]",
      "text/plain": [
       "<Figure size 432x288 with 2 Axes>"
      ]
     },
     "metadata": {
      "needs_background": "light"
     },
     "output_type": "display_data"
    }
   ],
   "source": [
    "# YOUR CODE HERE\n"
   ]
  },
  {
   "cell_type": "markdown",
   "id": "02e21f0b",
   "metadata": {},
   "source": [
    "The confusion matrix provides the true positives, true negatives, false positives and false negatives from which various scores can be calculated, as shown below:"
   ]
  },
  {
   "cell_type": "code",
   "execution_count": 36,
   "id": "e004c9e7",
   "metadata": {},
   "outputs": [
    {
     "name": "stdout",
     "output_type": "stream",
     "text": [
      "              precision    recall  f1-score   support\n",
      "\n",
      "         0.0       0.77      0.87      0.82     23026\n",
      "         1.0       0.76      0.60      0.67     15472\n",
      "\n",
      "    accuracy                           0.77     38498\n",
      "   macro avg       0.77      0.74      0.75     38498\n",
      "weighted avg       0.77      0.77      0.76     38498\n",
      "\n"
     ]
    }
   ],
   "source": [
    "print(classification_report(y_test_true, y_pred))"
   ]
  },
  {
   "cell_type": "markdown",
   "id": "ef4ba9fa",
   "metadata": {},
   "source": [
    "**EXERCISE 7:** Calculate accuracy, precision, recall and F1-score manually (for targer $y=1$). Verify that you obtain the same results as shown above.\n",
    "\n",
    "Those metrics are defined as follows:\n",
    "\n",
    "* Accuracy: $ACC = \\frac{TP+TN}{TP+TN+FP+FN}$\n",
    "* Precision (or Positive Prediction Value): $PPV = \\frac{TP}{TP+FP}$\n",
    "* Recall (or True Positive Rate): $TPR = \\frac{TP}{TP+FN}$\n",
    "* F1-score: $F_1 = 2 \\frac{PPV \\times TPR}{PPV+TPR} = \\frac{2 TP}{2 TP + FP + FN}$\n",
    "\n",
    "We add another metric that will become useful when defining the ROC curve:\n",
    "\n",
    "* False Positive Rate: $FPR = \\frac{FP}{FP+TN}$\n",
    "\n",
    "We are first giving the confusion matrix values below, from which you need to determine which is the True Positive, True Negative, False Positive and False Negative."
   ]
  },
  {
   "cell_type": "code",
   "execution_count": 39,
   "id": "15fea115",
   "metadata": {},
   "outputs": [
    {
     "data": {
      "text/plain": [
       "array([[20146,  2880],\n",
       "       [ 6144,  9328]])"
      ]
     },
     "execution_count": 39,
     "metadata": {},
     "output_type": "execute_result"
    }
   ],
   "source": [
    "confusion_matrix(y_test_true, y_pred)"
   ]
  },
  {
   "cell_type": "code",
   "execution_count": 45,
   "id": "6665614d",
   "metadata": {},
   "outputs": [
    {
     "name": "stdout",
     "output_type": "stream",
     "text": [
      "Accuracy: 0.77\n",
      "Precision: 0.76\n",
      "Recall: 0.60\n",
      "F1 score: 0.67\n"
     ]
    }
   ],
   "source": [
    "# YOUR CODE HERE\n",
    "\n",
    "\n",
    "\n",
    "print('Accuracy: {:.2f}'.format(ACC))\n",
    "print('Precision: {:.2f}'.format(PPV))\n",
    "print('Recall: {:.2f}'.format(TPR))\n",
    "print('F1 score: {:.2f}'.format(F1))"
   ]
  },
  {
   "cell_type": "markdown",
   "id": "f560c83f",
   "metadata": {},
   "source": [
    "As in de Vries et al. (2018) and Mignan & Broccardo (2019), we will use the __Area Under the Curve (AUC)__ metric, the curve being the __Receiver Operating Characteristics (ROC) curve__. It is useful for ranking classifiers and visualising their performance. It applies specially to the models that produce a continuous output, such as an estimate of an instance's class membership probability, to which different thresholds may be applied to predict class membership (a simple example being the logistic regression). The AUC then provides a summary of the result in one scalar value."
   ]
  },
  {
   "cell_type": "code",
   "execution_count": 46,
   "id": "bbe1f08b",
   "metadata": {},
   "outputs": [
    {
     "name": "stdout",
     "output_type": "stream",
     "text": [
      "AUC of logistic regression with von Mises feature: 0.8449477686794598\n"
     ]
    }
   ],
   "source": [
    "fpr_vonMises, tpr_vonMises, _ = roc_curve(y_test_true, y_pred_pr)\n",
    "AUC_vonMises = auc(fpr_vonMises, tpr_vonMises)\n",
    "print('AUC of logistic regression with von Mises feature:', AUC_vonMises)"
   ]
  },
  {
   "cell_type": "markdown",
   "id": "c513f2b4",
   "metadata": {},
   "source": [
    "**EXERCISE 8:** Add the (FPR, TPR) point of the logistic model on the next ROC curve. How can you interpret that point relative to the other points of the curve?"
   ]
  },
  {
   "cell_type": "code",
   "execution_count": 51,
   "id": "1612bd0f",
   "metadata": {},
   "outputs": [
    {
     "data": {
      "image/png": "[encoded data removed]",
      "text/plain": [
       "<Figure size 576x360 with 1 Axes>"
      ]
     },
     "metadata": {
      "needs_background": "light"
     },
     "output_type": "display_data"
    }
   ],
   "source": [
    "plt.figure(figsize=(8,5))\n",
    "plt.plot([0, 1], [0, 1], linestyle='--', dashes=(5, 2), linewidth=1, color=[0.6, 0.6, 0.6])\n",
    "plt.plot(fpr_vonMises, tpr_vonMises, 'b', linewidth=2, alpha = 0.5, label='von Mises (AUC = %0.3f)' % AUC_vonMises)\n",
    "\n",
    "# YOUR CODE HERE\n",
    "\n",
    "\n",
    "plt.xlabel('False Positive Rate')\n",
    "plt.ylabel('True Positive Rate')\n",
    "plt.title('ROC curves', size = 14)\n",
    "plt.legend(loc=\"lower right\");"
   ]
  },
  {
   "cell_type": "markdown",
   "id": "43961395",
   "metadata": {},
   "source": [
    "_YOUR ANSWER HERE_"
   ]
  },
  {
   "cell_type": "markdown",
   "id": "8e267cf7",
   "metadata": {},
   "source": [
    "### 2.4. Feature engineering\n",
    "\n",
    "Mignan & Broccardo (2019) showed that there was no need to compute stress and use them as features to predict aftershocks in space. They defined instead a logistic regression model with two simpler features: minimum distance to the mainshock rupture & mainshop mean slip.\n",
    "\n",
    "**EXERCISE 9:** Define minimum distance `dmin` and `slip` as new features. You need to use the SRCMOD data (provided on BlackBoard) and the $(x,y,z)$ coordinates given in `data_df`. While you can find the solution by yourself, another approach often useful is to try to find out if a similar work has already been done. Like a machine learning detective, you might want to dig into the lecturer's github https://github.com/amignan (part of the solution is there, somewhere...). Note that it will take a couple of minutes to run.\n",
    "\n",
    "First let us load the SRCMOD data which gives the geometry and slip of the faults rupturing during each mainshock."
   ]
  },
  {
   "cell_type": "code",
   "execution_count": 52,
   "id": "8f16387a",
   "metadata": {},
   "outputs": [
    {
     "data": {
      "text/html": [
       "<div>\n",
       "<style scoped>\n",
       "    .dataframe tbody tr th:only-of-type {\n",
       "        vertical-align: middle;\n",
       "    }\n",
       "\n",
       "    .dataframe tbody tr th {\n",
       "        vertical-align: top;\n",
       "    }\n",
       "\n",
       "    .dataframe thead th {\n",
       "        text-align: right;\n",
       "    }\n",
       "</style>\n",
       "<table border=\"1\" class=\"dataframe\">\n",
       "  <thead>\n",
       "    <tr style=\"text-align: right;\">\n",
       "      <th></th>\n",
       "      <th>Unnamed: 0</th>\n",
       "      <th>ID</th>\n",
       "      <th>x</th>\n",
       "      <th>y</th>\n",
       "      <th>z</th>\n",
       "      <th>slipMean</th>\n",
       "    </tr>\n",
       "  </thead>\n",
       "  <tbody>\n",
       "    <tr>\n",
       "      <th>0</th>\n",
       "      <td>0</td>\n",
       "      <td>s1968HYUGAx01YAGI</td>\n",
       "      <td>302275.167050</td>\n",
       "      <td>3.575726e+06</td>\n",
       "      <td>-11255.6</td>\n",
       "      <td>1.318214</td>\n",
       "    </tr>\n",
       "    <tr>\n",
       "      <th>1</th>\n",
       "      <td>1</td>\n",
       "      <td>s1968HYUGAx01YAGI</td>\n",
       "      <td>295549.514204</td>\n",
       "      <td>3.569726e+06</td>\n",
       "      <td>-11255.6</td>\n",
       "      <td>1.318214</td>\n",
       "    </tr>\n",
       "    <tr>\n",
       "      <th>2</th>\n",
       "      <td>2</td>\n",
       "      <td>s1968HYUGAx01YAGI</td>\n",
       "      <td>288816.128267</td>\n",
       "      <td>3.563741e+06</td>\n",
       "      <td>-11255.6</td>\n",
       "      <td>1.318214</td>\n",
       "    </tr>\n",
       "    <tr>\n",
       "      <th>3</th>\n",
       "      <td>3</td>\n",
       "      <td>s1968HYUGAx01YAGI</td>\n",
       "      <td>282084.001384</td>\n",
       "      <td>3.557748e+06</td>\n",
       "      <td>-11255.6</td>\n",
       "      <td>1.318214</td>\n",
       "    </tr>\n",
       "    <tr>\n",
       "      <th>4</th>\n",
       "      <td>4</td>\n",
       "      <td>s1968HYUGAx01YAGI</td>\n",
       "      <td>275334.750771</td>\n",
       "      <td>3.551771e+06</td>\n",
       "      <td>-11255.6</td>\n",
       "      <td>1.318214</td>\n",
       "    </tr>\n",
       "  </tbody>\n",
       "</table>\n",
       "</div>"
      ],
      "text/plain": [
       "   Unnamed: 0                 ID              x             y        z  \\\n",
       "0           0  s1968HYUGAx01YAGI  302275.167050  3.575726e+06 -11255.6   \n",
       "1           1  s1968HYUGAx01YAGI  295549.514204  3.569726e+06 -11255.6   \n",
       "2           2  s1968HYUGAx01YAGI  288816.128267  3.563741e+06 -11255.6   \n",
       "3           3  s1968HYUGAx01YAGI  282084.001384  3.557748e+06 -11255.6   \n",
       "4           4  s1968HYUGAx01YAGI  275334.750771  3.551771e+06 -11255.6   \n",
       "\n",
       "   slipMean  \n",
       "0  1.318214  \n",
       "1  1.318214  \n",
       "2  1.318214  \n",
       "3  1.318214  \n",
       "4  1.318214  "
      ]
     },
     "execution_count": 52,
     "metadata": {},
     "output_type": "execute_result"
    }
   ],
   "source": [
    "# mainshock rupture data\n",
    "SRCMOD = pd.read_csv(os.path.join(os.path.dirname(notebook_path), \"data/aftershocks/SRCMOD_simplified.csv\"))\n",
    "SRCMOD.head()"
   ]
  },
  {
   "cell_type": "code",
   "execution_count": 53,
   "id": "b6a5f1bc",
   "metadata": {},
   "outputs": [
    {
     "name": "stdout",
     "output_type": "stream",
     "text": [
      "0\n",
      "10000\n",
      "20000\n",
      "30000\n",
      "40000\n",
      "50000\n",
      "60000\n",
      "70000\n",
      "80000\n",
      "90000\n",
      "100000\n",
      "110000\n",
      "120000\n",
      "130000\n",
      "140000\n",
      "150000\n",
      "160000\n",
      "170000\n",
      "180000\n",
      "190000\n",
      "200000\n"
     ]
    }
   ],
   "source": [
    "# YOUR CODE HERE\n",
    "dmin = []\n",
    "slip = []\n",
    "\n",
    "#for i in range(?):\n",
    "#    if i%1e4 == 0: print(i)\n",
    "#    x_cell = data_xyz_balanced['x'].iloc[i]\n",
    "#    y_cell = data_xyz_balanced['y'].iloc[i]\n",
    "#    z_cell = data_xyz_balanced['z'].iloc[i]\n",
    "#    ID_cell = data_xyz_balanced['ID'].iloc[i]\n",
    "    \n",
    "#    SRCMODi = SRCMOD.loc[lambda SRCMOD: SRCMOD['ID'] == ID_cell, :]\n",
    "    \n",
    "    # do feature engineering\n",
    "#    ...\n",
    "#    ...\n",
    "#    ...  \n",
    "#    ...\n",
    "#    dmin.append(?)\n",
    "#    slip.append(?)"
   ]
  },
  {
   "cell_type": "code",
   "execution_count": 54,
   "id": "edfed0b4",
   "metadata": {},
   "outputs": [],
   "source": [
    "# redo filtering, split\n",
    "data_xyz_wNewFeatures = data_xyz_balanced\n",
    "data_xyz_wNewFeatures['dmin'] = dmin\n",
    "data_xyz_wNewFeatures['slip'] = slip\n",
    "\n",
    "TrainingSet2 = data_xyz_wNewFeatures.loc[data_xyz_wNewFeatures['ID'].isin(training_IDs)]\n",
    "TestingSet2 = data_xyz_wNewFeatures.loc[data_xyz_wNewFeatures['ID'].isin(testing_IDs)]"
   ]
  },
  {
   "cell_type": "markdown",
   "id": "f1d33b5a",
   "metadata": {},
   "source": [
    "**EXERCISE 10:** Run a new logistic regression model with `dmin` and `slip` as features. Write down the new equation in latex format. As with the von Mises criterion, we will use the natural logarithm of the features."
   ]
  },
  {
   "cell_type": "code",
   "execution_count": 58,
   "id": "b34fa946",
   "metadata": {},
   "outputs": [
    {
     "name": "stdout",
     "output_type": "stream",
     "text": [
      "[[-1.01904551  0.49828531]] [10.38696293]\n"
     ]
    }
   ],
   "source": [
    "# YOUR CODE HERE\n",
    "#x_train2 = ?\n",
    "#y_train2 = ?\n",
    "\n",
    "#logreg_model2 = ?\n",
    "#...\n",
    "\n",
    "#x_test2 = ?\n",
    "#y_test2_true = ?\n",
    "\n",
    "#y_pred2 = ?\n",
    "#y_pred2_pr = ?\n",
    "\n",
    "\n",
    "\n",
    "print(logreg_model2.coef_, logreg_model2.intercept_)"
   ]
  },
  {
   "cell_type": "markdown",
   "id": "be75b062",
   "metadata": {},
   "source": [
    "_YOUR ANSWER HERE_\n",
    "$$\n",
    "...\n",
    "$$"
   ]
  },
  {
   "cell_type": "markdown",
   "id": "3f522a83",
   "metadata": {},
   "source": [
    "**EXERCISE 11:** Find the model parameters obtained by Mignan & Broccardo (2019) in their article. They differ with your finding. Can you find any reason why? Rerun the previous cell by updating one line to verify if your resaoning was correct. _Hint: we used the natural logarithm here_"
   ]
  },
  {
   "cell_type": "markdown",
   "id": "39915c02",
   "metadata": {},
   "source": [
    "_YOUR ANSWER HERE_"
   ]
  },
  {
   "cell_type": "markdown",
   "id": "347ca839",
   "metadata": {},
   "source": [
    "**EXERCISE 12:** Calculate the new ROC curve and plot it in red on top of the von Mises model (in blue). Compare the 2 models in words to conclude this application."
   ]
  },
  {
   "cell_type": "code",
   "execution_count": 59,
   "id": "b9a0a432",
   "metadata": {},
   "outputs": [
    {
     "name": "stdout",
     "output_type": "stream",
     "text": [
      "AUC of logistic regression with geometric feature: 0.8594939558343786\n"
     ]
    },
    {
     "data": {
      "image/png": "[encoded data removed]",
      "text/plain": [
       "<Figure size 576x360 with 1 Axes>"
      ]
     },
     "metadata": {
      "needs_background": "light"
     },
     "output_type": "display_data"
    }
   ],
   "source": [
    "# YOUR CODE HERE\n",
    "#...\n",
    "#AUC_geom = auc(fpr_geom, tpr_geom)\n",
    "\n",
    "#plt.figure(figsize=(8,5))\n",
    "#... several lines of code\n"
   ]
  },
  {
   "cell_type": "markdown",
   "id": "f8657811",
   "metadata": {},
   "source": [
    "_YOUR ANSWER HERE_"
   ]
  },
  {
   "cell_type": "markdown",
   "id": "7ebdb6a0",
   "metadata": {},
   "source": [
    "## 3. References\n",
    "\n",
    "* DeVries et al. (2018), Deep learning of aftershock patterns following large earthquakes, Nature, 560, 632-634\n",
    "* Mignan & Broccardo (2019), One neuron versus deep learning in aftershock prediction, Nature, 574, E1-E3"
   ]
  },
  {
   "cell_type": "code",
   "execution_count": null,
   "id": "d39f0fc1",
   "metadata": {},
   "outputs": [],
   "source": []
  }
 ],
 "metadata": {
  "kernelspec": {
   "display_name": "Python 3",
   "language": "python",
   "name": "python3"
  },
  "language_info": {
   "codemirror_mode": {
    "name": "ipython",
    "version": 3
   },
   "file_extension": ".py",
   "mimetype": "text/x-python",
   "name": "python",
   "nbconvert_exporter": "python",
   "pygments_lexer": "ipython3",
   "version": "3.9.2"
  }
 },
 "nbformat": 4,
 "nbformat_minor": 5
}
